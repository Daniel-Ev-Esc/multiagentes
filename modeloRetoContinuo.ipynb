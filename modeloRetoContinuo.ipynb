{
 "cells": [
  {
   "cell_type": "code",
   "execution_count": 717,
   "metadata": {},
   "outputs": [],
   "source": [
    "import agentpy as ap\n",
    "import numpy as np\n",
    "\n",
    "import matplotlib.pyplot as plt\n",
    "import seaborn as sns\n",
    "import IPython"
   ]
  },
  {
   "cell_type": "code",
   "execution_count": 718,
   "metadata": {},
   "outputs": [],
   "source": [
    "def normalize(v):\n",
    "    \"\"\" Normalize a vector to length 1. \"\"\"\n",
    "    norm = np.linalg.norm(v)\n",
    "    if norm == 0:\n",
    "        return v\n",
    "    return v / norm"
   ]
  },
  {
   "cell_type": "code",
   "execution_count": 719,
   "metadata": {},
   "outputs": [],
   "source": [
    "class Carro(ap.Agent):\n",
    "\n",
    "    def definirVelocidades(self):\n",
    "        if self.ruta[0] == 'B' and self.ruta[1] == 'A':\n",
    "            return [[0.5,0.0],[0.0,0.5],[-0.5,0.0]]\n",
    "        elif self.ruta[0] == 'B' and self.ruta[1] == 'B':\n",
    "            return [[0.5,0.0],[0.5,0.0],[0.5,0.0]]\n",
    "        elif self.ruta[0] == 'C' and self.ruta[1] == 'B':\n",
    "            return [[0.0,0.5],[0.0,0.5],[-0.5,0.0]]\n",
    "        elif self.ruta[0] == 'C' and self.ruta[1] == 'C':\n",
    "            return [[0.0,0.5],[0.0,0.5],[0.0,0.5]]\n",
    "        elif self.ruta[0] == 'A' and self.ruta[1] == 'A':\n",
    "            return [[-0.5,0.0],[-0.5,0.0],[-0.5,0.0]]\n",
    "        else:\n",
    "            print(self.ruta)\n",
    "\n",
    "    def setup(self, calleAct, direccion, destino):\n",
    "        self.ruta = [calleAct,destino]\n",
    "        self.direccion = direccion\n",
    "        self.velocidadesRuta = self.definirVelocidades()\n",
    "        self.seccion = 0\n",
    "        self.velocity = normalize(self.velocidadesRuta[self.seccion])\n",
    "\n",
    "    def setup_pos(self, space):\n",
    "        self.space = space\n",
    "        self.pos = space.positions[self]\n",
    "\n",
    "    def revisarSemaforo(self, semaforo):\n",
    "        pos = self.pos\n",
    "\n",
    "        luz = semaforo.mostrarLuz()\n",
    "\n",
    "        if(self.seccion == 0):\n",
    "            if(luz[1] == 1 and \n",
    "                (pos[0] in range(semaforo.rangoInter[0][0]-5,semaforo.rangoInter[0][0]) or pos[0] in range(semaforo.rangoInter[0][1],semaforo.rangoInter[0][0]+5)) or\n",
    "                (pos[1] in range(semaforo.rangoInter[1][0]-5,semaforo.rangoInter[1][0]) or pos[1] in range(semaforo.rangoInter[1][1],semaforo.rangoInter[1][1]+5))):\n",
    "                self.velocity = normalize([self.velocidadesRuta[self.seccion][0]/2,self.velocidadesRuta[self.seccion][1]/2])\n",
    "            elif((luz[1] == 2 or not np.array_equal(luz[0],self.ruta)) and (pos[0] in range(semaforo.rangoInter[0][0]-1,semaforo.rangoInter[0][1]+1) and pos[1] in range(semaforo.rangoInter[1][0]-1,semaforo.rangoInter[1][1]+1))):\n",
    "                self.velocity = normalize([0.0,0.0])\n",
    "            elif(luz[1] == 0 and np.array_equal(luz[0],self.ruta) and (pos[0] in range(semaforo.rangoInter[0][0]+2,semaforo.rangoInter[0][1]-2) and pos[1] in range(semaforo.rangoInter[1][0]+2,semaforo.rangoInter[1][1]-2))):\n",
    "                self.seccion = 1\n",
    "            else:\n",
    "                self.velocity = normalize(self.velocidadesRuta[self.seccion])\n",
    "        else:\n",
    "            self.velocity = normalize(self.velocidadesRuta[self.seccion])\n",
    "        \n",
    "        if(self.seccion == 1 and not (pos[0] in range(semaforo.rangoInter[0][0]+2,semaforo.rangoInter[0][1]-2) and pos[1] in range(semaforo.rangoInter[1][0]+2,semaforo.rangoInter[1][1]-2))):\n",
    "            self.seccion = 2\n",
    "\n",
    "    def revisarDestino(self, model):\n",
    "        if 0 in self.pos or 40 in self.pos:\n",
    "            model.space.remove_agents(self)\n",
    "            model.agents.remove(self)\n",
    "\n",
    "    def update_position(self):\n",
    "        self.space.move_by(self, self.velocity)\n"
   ]
  },
  {
   "cell_type": "code",
   "execution_count": 720,
   "metadata": {},
   "outputs": [],
   "source": [
    "class Semaforo(ap.Agent):\n",
    "\n",
    "    def setup(self, rutas, tiempoRutas):\n",
    "        self.color = 0\n",
    "        self.rutaAct = 0\n",
    "        self.rutas = rutas\n",
    "        self.tiempoRutas = tiempoRutas\n",
    "                \n",
    "    \n",
    "    def setupSpace(self, space):\n",
    "        self.space = space\n",
    "        self.pos = space.positions[self]\n",
    "        self.rangoInter = [[20,30],[5,30]]\n",
    "\n",
    "    def mostrarLuz(self):\n",
    "        return [self.rutas[self.rutaAct], self.color]\n",
    "\n",
    "    def siguienteLuz(self, tiempo):\n",
    "        if(tiempo >= self.tiempoRutas[self.rutaAct][self.color]):\n",
    "            if(self.color == 2):\n",
    "                self.color = 0\n",
    "                if(self.rutaAct == len(self.rutas)-1):\n",
    "                    self.rutaAct = 0\n",
    "                else:\n",
    "                    self.rutaAct += 1\n",
    "            else:\n",
    "                self.color+=1\n",
    "            return True\n",
    "        return False\n"
   ]
  },
  {
   "cell_type": "code",
   "execution_count": 721,
   "metadata": {},
   "outputs": [],
   "source": [
    "class CarModel(ap.Model):\n",
    "    def setup(self):\n",
    "        self.time = 0\n",
    "        self.agentNum = 0\n",
    "        self.space = ap.Space(self, shape=[self.p.size]*self.p.ndim)\n",
    "\n",
    "        rutasDisp = [['B','A'],['B','B'],['C','B'],['C','C'],['A','A']]\n",
    "        posiciones = [(1,20),(1,23),(23,1),(27,1),(35,30)]\n",
    "\n",
    "        origenes = []\n",
    "        destinos = []\n",
    "        self.posicionesIniciales = []\n",
    "\n",
    "        for i in range(1,20):\n",
    "            rutaIdx = self.random.randint(0,4)\n",
    "            ruta = rutasDisp[rutaIdx]\n",
    "            origenes.append(ruta[0])\n",
    "            destinos.append(ruta[1])\n",
    "            self.posicionesIniciales.append(posiciones[rutaIdx])\n",
    "\n",
    "        \n",
    "        origenesPar = ap.AttrIter(origenes)\n",
    "        destinosPar = ap.AttrIter(destinos)\n",
    "        \n",
    "        \n",
    "        self.agents = ap.AgentDList(self,19,Carro,calleAct=origenesPar,direccion=1,destino=destinosPar)\n",
    "        print(\"a\")\n",
    "        self.agentsSem = ap.AgentDList(self,1,Semaforo,rutas=rutasDisp,tiempoRutas=[[10,10,10],[10,10,10],[10,10,10],[10,10,10],[10,10,10]])\n",
    "        print(\"b\")        \n",
    "        self.space.add_agents(self.agents[0], self.posicionesIniciales[0])\n",
    "        print(\"c\")\n",
    "        self.space.add_agents(self.agentsSem, [(30,10)])\n",
    "        print(\"d\")\n",
    "        self.agents.setup_pos(self.space)\n",
    "        self.agentsSem.setupSpace(self.space)\n",
    "\n",
    "        \n",
    "\n",
    "    def update(self):\n",
    "        if self.agentNum < 20:\n",
    "            self.agentNum += 1\n",
    "            self.space.add_agents(self.agents[self.agentNum], self.posicionesIniciales[self.agentNum])\n",
    "\n",
    "        self.time += 1\n",
    "        change = self.agentsSem[0].siguienteLuz(self.time)\n",
    "        if(change):\n",
    "            self.time = 0\n",
    "        self.agents.revisarSemaforo(self.agentsSem[0])\n",
    "\n",
    "\n",
    "    def step(self):\n",
    "        self.agents.update_position()\n",
    "        self.agents.revisarDestino(self)\n",
    "\n",
    "\n",
    "    def mostrarSemaforo(self):\n",
    "        return self.agentsSem[0].mostrarLuz()\n",
    "        "
   ]
  },
  {
   "cell_type": "code",
   "execution_count": 722,
   "metadata": {},
   "outputs": [],
   "source": [
    "def animation_plot_single(m, ax):\n",
    "    ndim = m.p.ndim\n",
    "    ax.set_title(f\"Semáforo: {m.mostrarSemaforo()}\\n\")\n",
    "    pos = m.space.positions.values()\n",
    "    pos = np.array(list(pos)).T  # Transform\n",
    "    ax.scatter(*pos, s=1, c='black')\n",
    "    ax.set_xlim(0, m.p.size)\n",
    "    ax.set_ylim(0, m.p.size)\n",
    "    if ndim == 3:\n",
    "        ax.set_zlim(0, m.p.size)\n",
    "    ax.set_axis_off()\n",
    "\n",
    "def animation_plot(m, p):\n",
    "    projection = '3d' if p['ndim'] == 3 else None\n",
    "    fig = plt.figure(figsize=(7,7))\n",
    "    ax = fig.add_subplot(111, projection=projection)\n",
    "    animation = ap.animate(m(p), fig, ax, animation_plot_single)\n",
    "    return IPython.display.HTML(animation.to_jshtml(fps=20))"
   ]
  },
  {
   "cell_type": "code",
   "execution_count": 723,
   "metadata": {},
   "outputs": [],
   "source": [
    "parameters2D = {\n",
    "    'size': 40,\n",
    "    'steps': 300,\n",
    "    'ndim': 2\n",
    "}"
   ]
  },
  {
   "cell_type": "code",
   "execution_count": 724,
   "metadata": {},
   "outputs": [
    {
     "name": "stdout",
     "output_type": "stream",
     "text": [
      "a\n",
      "b\n"
     ]
    },
    {
     "ename": "TypeError",
     "evalue": "getattr(): attribute name must be string",
     "output_type": "error",
     "traceback": [
      "\u001b[1;31m---------------------------------------------------------------------------\u001b[0m",
      "\u001b[1;31mTypeError\u001b[0m                                 Traceback (most recent call last)",
      "Cell \u001b[1;32mIn [724], line 1\u001b[0m\n\u001b[1;32m----> 1\u001b[0m animation_plot(CarModel, parameters2D)\n",
      "Cell \u001b[1;32mIn [722], line 17\u001b[0m, in \u001b[0;36manimation_plot\u001b[1;34m(m, p)\u001b[0m\n\u001b[0;32m     15\u001b[0m fig \u001b[39m=\u001b[39m plt\u001b[39m.\u001b[39mfigure(figsize\u001b[39m=\u001b[39m(\u001b[39m7\u001b[39m,\u001b[39m7\u001b[39m))\n\u001b[0;32m     16\u001b[0m ax \u001b[39m=\u001b[39m fig\u001b[39m.\u001b[39madd_subplot(\u001b[39m111\u001b[39m, projection\u001b[39m=\u001b[39mprojection)\n\u001b[1;32m---> 17\u001b[0m animation \u001b[39m=\u001b[39m ap\u001b[39m.\u001b[39;49manimate(m(p), fig, ax, animation_plot_single)\n\u001b[0;32m     18\u001b[0m \u001b[39mreturn\u001b[39;00m IPython\u001b[39m.\u001b[39mdisplay\u001b[39m.\u001b[39mHTML(animation\u001b[39m.\u001b[39mto_jshtml(fps\u001b[39m=\u001b[39m\u001b[39m20\u001b[39m))\n",
      "File \u001b[1;32mc:\\Users\\danie\\AppData\\Local\\Programs\\Python\\Python310\\lib\\site-packages\\agentpy\\visualization.py:59\u001b[0m, in \u001b[0;36manimate\u001b[1;34m(model, fig, axs, plot, steps, seed, skip, fargs, **kwargs)\u001b[0m\n\u001b[0;32m     17\u001b[0m \u001b[39mdef\u001b[39;00m \u001b[39manimate\u001b[39m(model, fig, axs, plot, steps\u001b[39m=\u001b[39m\u001b[39mNone\u001b[39;00m, seed\u001b[39m=\u001b[39m\u001b[39mNone\u001b[39;00m,\n\u001b[0;32m     18\u001b[0m             skip\u001b[39m=\u001b[39m\u001b[39m0\u001b[39m, fargs\u001b[39m=\u001b[39m(), \u001b[39m*\u001b[39m\u001b[39m*\u001b[39mkwargs):\n\u001b[0;32m     19\u001b[0m     \u001b[39m\"\"\" Returns an animation of the model simulation,\u001b[39;00m\n\u001b[0;32m     20\u001b[0m \u001b[39m    using :func:`matplotlib.animation.FuncAnimation`.\u001b[39;00m\n\u001b[0;32m     21\u001b[0m \n\u001b[1;32m   (...)\u001b[0m\n\u001b[0;32m     56\u001b[0m \u001b[39m            HTML(animation.to_jshtml())\u001b[39;00m\n\u001b[0;32m     57\u001b[0m \u001b[39m    \"\"\"\u001b[39;00m\n\u001b[1;32m---> 59\u001b[0m     model\u001b[39m.\u001b[39;49msim_setup(steps, seed)\n\u001b[0;32m     60\u001b[0m     model\u001b[39m.\u001b[39mcreate_output()\n\u001b[0;32m     61\u001b[0m     pre_steps \u001b[39m=\u001b[39m \u001b[39m0\u001b[39m\n",
      "File \u001b[1;32mc:\\Users\\danie\\AppData\\Local\\Programs\\Python\\Python310\\lib\\site-packages\\agentpy\\model.py:316\u001b[0m, in \u001b[0;36mModel.sim_setup\u001b[1;34m(self, steps, seed)\u001b[0m\n\u001b[0;32m    313\u001b[0m \u001b[39mself\u001b[39m\u001b[39m.\u001b[39m_partly_run \u001b[39m=\u001b[39m \u001b[39mTrue\u001b[39;00m\n\u001b[0;32m    315\u001b[0m \u001b[39m# Execute setup and first update\u001b[39;00m\n\u001b[1;32m--> 316\u001b[0m \u001b[39mself\u001b[39m\u001b[39m.\u001b[39msetup(\u001b[39m*\u001b[39m\u001b[39m*\u001b[39m\u001b[39mself\u001b[39m\u001b[39m.\u001b[39m_setup_kwargs)\n\u001b[0;32m    317\u001b[0m \u001b[39mself\u001b[39m\u001b[39m.\u001b[39mupdate()\n\u001b[0;32m    319\u001b[0m \u001b[39m# Stop simulation if t too high\u001b[39;00m\n",
      "Cell \u001b[1;32mIn [721], line 30\u001b[0m, in \u001b[0;36mCarModel.setup\u001b[1;34m(self)\u001b[0m\n\u001b[0;32m     28\u001b[0m \u001b[39mself\u001b[39m\u001b[39m.\u001b[39magentsSem \u001b[39m=\u001b[39m ap\u001b[39m.\u001b[39mAgentDList(\u001b[39mself\u001b[39m,\u001b[39m1\u001b[39m,Semaforo,rutas\u001b[39m=\u001b[39mrutasDisp,tiempoRutas\u001b[39m=\u001b[39m[[\u001b[39m10\u001b[39m,\u001b[39m10\u001b[39m,\u001b[39m10\u001b[39m],[\u001b[39m10\u001b[39m,\u001b[39m10\u001b[39m,\u001b[39m10\u001b[39m],[\u001b[39m10\u001b[39m,\u001b[39m10\u001b[39m,\u001b[39m10\u001b[39m],[\u001b[39m10\u001b[39m,\u001b[39m10\u001b[39m,\u001b[39m10\u001b[39m],[\u001b[39m10\u001b[39m,\u001b[39m10\u001b[39m,\u001b[39m10\u001b[39m]])\n\u001b[0;32m     29\u001b[0m \u001b[39mprint\u001b[39m(\u001b[39m\"\u001b[39m\u001b[39mb\u001b[39m\u001b[39m\"\u001b[39m)        \n\u001b[1;32m---> 30\u001b[0m \u001b[39mself\u001b[39;49m\u001b[39m.\u001b[39;49mspace\u001b[39m.\u001b[39;49madd_agents(\u001b[39mself\u001b[39;49m\u001b[39m.\u001b[39;49magents[\u001b[39m0\u001b[39;49m], \u001b[39mself\u001b[39;49m\u001b[39m.\u001b[39;49mposicionesIniciales[\u001b[39m0\u001b[39;49m])\n\u001b[0;32m     31\u001b[0m \u001b[39mself\u001b[39m\u001b[39m.\u001b[39mspace\u001b[39m.\u001b[39madd_agents(\u001b[39mself\u001b[39m\u001b[39m.\u001b[39magentsSem, [(\u001b[39m30\u001b[39m,\u001b[39m10\u001b[39m)])\n\u001b[0;32m     32\u001b[0m \u001b[39mself\u001b[39m\u001b[39m.\u001b[39magents\u001b[39m.\u001b[39msetup_pos(\u001b[39mself\u001b[39m\u001b[39m.\u001b[39mspace)\n",
      "File \u001b[1;32mc:\\Users\\danie\\AppData\\Local\\Programs\\Python\\Python310\\lib\\site-packages\\agentpy\\space.py:119\u001b[0m, in \u001b[0;36mSpace.add_agents\u001b[1;34m(self, agents, positions, random)\u001b[0m\n\u001b[0;32m    116\u001b[0m     \u001b[39melse\u001b[39;00m:\n\u001b[0;32m    117\u001b[0m         positions \u001b[39m=\u001b[39m [np\u001b[39m.\u001b[39mzeros(\u001b[39mself\u001b[39m\u001b[39m.\u001b[39mndim) \u001b[39mfor\u001b[39;00m _ \u001b[39min\u001b[39;00m \u001b[39mrange\u001b[39m(n_agents)]\n\u001b[1;32m--> 119\u001b[0m \u001b[39mfor\u001b[39;00m agent, pos \u001b[39min\u001b[39;00m \u001b[39mzip\u001b[39m(agents, positions):\n\u001b[0;32m    121\u001b[0m     pos \u001b[39m=\u001b[39m pos \u001b[39mif\u001b[39;00m \u001b[39misinstance\u001b[39m(pos, np\u001b[39m.\u001b[39mndarray) \u001b[39melse\u001b[39;00m np\u001b[39m.\u001b[39marray(pos)\n\u001b[0;32m    122\u001b[0m     \u001b[39mself\u001b[39m\u001b[39m.\u001b[39mpositions[agent] \u001b[39m=\u001b[39m pos\n",
      "File \u001b[1;32mc:\\Users\\danie\\AppData\\Local\\Programs\\Python\\Python310\\lib\\site-packages\\agentpy\\objects.py:30\u001b[0m, in \u001b[0;36mObject.__getitem__\u001b[1;34m(self, key)\u001b[0m\n\u001b[0;32m     29\u001b[0m \u001b[39mdef\u001b[39;00m \u001b[39m__getitem__\u001b[39m(\u001b[39mself\u001b[39m, key):\n\u001b[1;32m---> 30\u001b[0m     \u001b[39mreturn\u001b[39;00m \u001b[39mgetattr\u001b[39;49m(\u001b[39mself\u001b[39;49m, key)\n",
      "\u001b[1;31mTypeError\u001b[0m: getattr(): attribute name must be string"
     ]
    },
    {
     "data": {
      "image/png": "[encoded data removed]",
      "text/plain": [
       "<Figure size 700x700 with 1 Axes>"
      ]
     },
     "metadata": {},
     "output_type": "display_data"
    }
   ],
   "source": [
    "animation_plot(CarModel, parameters2D)"
   ]
  }
 ],
 "metadata": {
  "kernelspec": {
   "display_name": "Python 3.10.0 64-bit",
   "language": "python",
   "name": "python3"
  },
  "language_info": {
   "codemirror_mode": {
    "name": "ipython",
    "version": 3
   },
   "file_extension": ".py",
   "mimetype": "text/x-python",
   "name": "python",
   "nbconvert_exporter": "python",
   "pygments_lexer": "ipython3",
   "version": "3.10.0"
  },
  "orig_nbformat": 4,
  "vscode": {
   "interpreter": {
    "hash": "0f2f6c680cf484319d387fabac80ca4ff4fc33965036e02100b3fe02600f1423"
   }
  }
 },
 "nbformat": 4,
 "nbformat_minor": 2
}
